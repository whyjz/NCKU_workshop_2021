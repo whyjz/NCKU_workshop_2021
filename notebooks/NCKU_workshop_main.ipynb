{
 "cells": [
  {
   "cell_type": "markdown",
   "metadata": {},
   "source": [
    "## 0 透過 Binder 開啟 Jupyter 伺服器\n",
    "\n",
    "查看 Readme.md\n",
    "\n",
    "## 1 Jupyter Notebook\n",
    "\n",
    "第一個 Binder 連結\n",
    "\n",
    "更多介紹：\n",
    "https://jupytearth.org/jupyter-resources/ecosystem/notebook.html\n",
    "\n",
    "### 1.1 code block"
   ]
  },
  {
   "cell_type": "code",
   "execution_count": 6,
   "metadata": {},
   "outputs": [
    {
     "name": "stdout",
     "output_type": "stream",
     "text": [
      "你好\n"
     ]
    }
   ],
   "source": [
    "print('你好')"
   ]
  },
  {
   "cell_type": "markdown",
   "metadata": {},
   "source": [
    "#### 1.1.1 \"Kernel\"\n",
    "\n",
    "右上角可以查看 Kernel 的種類和狀態。\n",
    "\n",
    "#### 1.1.2 magic commands\n",
    "\n",
    "例子："
   ]
  },
  {
   "cell_type": "code",
   "execution_count": 7,
   "metadata": {},
   "outputs": [
    {
     "name": "stdout",
     "output_type": "stream",
     "text": [
      "CPU times: user 6 µs, sys: 1 µs, total: 7 µs\n",
      "Wall time: 13.4 µs\n"
     ]
    }
   ],
   "source": [
    "%%time\n",
    "a = 3\n",
    "b = 5\n",
    "a + b"
   ]
  },
  {
   "cell_type": "markdown",
   "metadata": {},
   "source": [
    "### 1.1.3 run bash "
   ]
  },
  {
   "cell_type": "code",
   "execution_count": 8,
   "metadata": {},
   "outputs": [
    {
     "name": "stdout",
     "output_type": "stream",
     "text": [
      "總計 24\n",
      "drwxr-xr-x 3 whyj whyj 4096  8月  5 10:12 .\n",
      "drwxr-xr-x 4 whyj whyj 4096  8月  4 12:32 ..\n",
      "drwxr-xr-x 2 whyj whyj 4096  8月  4 12:38 .ipynb_checkpoints\n",
      "-rw-r--r-- 1 whyj whyj 6783  8月  5 10:12 NCKU_workshop_main.ipynb\n",
      "-rw-r--r-- 1 whyj whyj 1235  8月  4 12:40 NCKU_workshop_report-template.ipynb\n"
     ]
    }
   ],
   "source": [
    "%%bash\n",
    "ls -al"
   ]
  },
  {
   "cell_type": "markdown",
   "metadata": {},
   "source": [
    "### 1.2 markdown block\n",
    "\n",
    "就是這個格子啦。\n",
    "\n",
    "### 1.2.1 write latex\n",
    "\n",
    "二次方程式： $y = ax^2 + b$\n",
    "\n",
    "熱傳導：\n",
    "$$\n",
    "\\frac{dQ}{dt} = -kA \\frac{dT}{dx}\n",
    "$$\n",
    "\n",
    "### 1.3 注意事項：執行順序\n",
    "\n",
    "撰寫 Notebook 的好習慣：**寫完後記得重新啟動 Kernel 從頭到尾執行一遍。**\n",
    "\n",
    "更多狀況請看這：https://jupytearth.org/jupyter-resources/ecosystem/managing-state.html\n",
    "\n",
    "## 2 JupyterLab\n",
    "\n",
    "第二個 Binder 連結\n",
    "\n",
    "更多介紹：\n",
    "https://jupytearth.org/jupyter-resources/ecosystem/jupyterlab.html\n",
    "\n",
    "### 2.1 panels\n",
    "\n",
    "#### 2.1.1 file browser\n",
    "\n",
    "左側\n",
    "\n",
    "### 2.1.2 output panel\n",
    "\n",
    "在圖上面按右鍵\n",
    "\n",
    "### 2.2 tabs\n",
    "\n",
    "#### 2.2.1 file editor\n",
    "\n",
    "不同種類，plain text, csv, ...\n",
    "\n",
    "#### 2.2.2 kernel / task manager\n",
    "\n",
    "左側\n",
    "\n",
    "#### 2.2.3 terminal\n",
    "\n",
    "可以從 launcher 開\n",
    "\n",
    "## 3 Python\n",
    "\n",
    "使用 Jupyter 學 Python 的資源 [Geo-Python](https://geo-python-site.readthedocs.io/en/latest/) \n",
    "\n",
    "### 3.1 syntax\n",
    "\n",
    "小提示：使用 `;` 在結尾可以抑制程式碼格子的輸出。"
   ]
  },
  {
   "cell_type": "code",
   "execution_count": 13,
   "metadata": {},
   "outputs": [],
   "source": [
    "x = 2\n",
    "x + 3;  # 不會輸出 5"
   ]
  },
  {
   "cell_type": "markdown",
   "metadata": {},
   "source": [
    "### 3.2 notebook shortcuts\n",
    "\n",
    "- `ctrl+/`： 註解/取消註解\n",
    "- `ctrl+[ or ]`：減少/增加縮排\n",
    "\n",
    "## 4 Git and Github\n",
    "\n",
    "連猴子都懂的 Git 入門指南\n",
    "https://backlog.com/git-tutorial/tw/\n",
    "\n",
    "Github：一個存放以 git 管理的專案的網路服務\n",
    "\n",
    "### 4.1 create a repository\n",
    "\n",
    "`git init` (我們用 Github 的圖形介面做了此步驟)\n",
    "\n",
    "`git clone`\n",
    "\n",
    "### 4.2 make a commit\n",
    "\n",
    "`git status`\n",
    "\n",
    "`git add .`\n",
    "\n",
    "`git commit`\n",
    "\n",
    "`git push`\n",
    "\n",
    "### 4.3 collaboration\n",
    "\n",
    "這一部份並沒有在 workshop 中講，歡迎各位自行研究：\n",
    "\n",
    "`git pull`\n",
    "\n",
    "`git checkout`\n",
    "\n",
    "`git merge`\n",
    "\n",
    "`git rebase`\n",
    "\n",
    "## 5. Python packages\n",
    "\n",
    "### 5.1 install Python packages through conda or pip\n",
    "\n",
    "### 5.2 numpy / scipy \n",
    "\n",
    "https://jupytearth.org/jupyter-resources/ecosystem/widgets.html\n",
    "\n",
    "### 5.3 matplotlib and beyond\n",
    "\n",
    "同 5.2 或 6\n",
    "\n",
    "### 5.4 pandas / geopandas\n",
    "\n",
    "https://geopandas.org/getting_started/introduction.html\n",
    "\n",
    "### 5.5 rasterio / shapely\n",
    "\n",
    "https://automating-gis-processes.github.io/site/notebooks/Raster/reading-raster.html ?\n",
    "\n",
    "### 5.6 ipywidgets and beyond\n",
    "\n",
    "同 5.2\n",
    "\n",
    "## 6 Toy research workflow\n",
    "\n",
    "https://workflow.jupytearth.org/\n",
    "\n",
    "## 7 Binder\n",
    "\n",
    "### 7.1 repo license and readme\n",
    "\n",
    "### 7.2 binderize github repo\n",
    "\n",
    "#### 7.3.1 YAML\n",
    "\n",
    "## 8 Jupyter Book\n",
    "\n",
    "### 8.1 Voila\n",
    "\n",
    "### 8.2 Github actions\n",
    "\n",
    "## 9 Tools for publishing data and code\n",
    "\n",
    "### 9.1 Zenodo\n",
    "\n",
    "### 9.2 PyPI\n",
    "\n",
    "#### 9.2.1 pip install packages"
   ]
  },
  {
   "cell_type": "code",
   "execution_count": 14,
   "metadata": {},
   "outputs": [
    {
     "ename": "ModuleNotFoundError",
     "evalue": "No module named 'geopandas'",
     "output_type": "error",
     "traceback": [
      "\u001b[0;31m---------------------------------------------------------------------------\u001b[0m",
      "\u001b[0;31mModuleNotFoundError\u001b[0m                       Traceback (most recent call last)",
      "\u001b[0;32m<ipython-input-14-cb1f3d39d933>\u001b[0m in \u001b[0;36m<module>\u001b[0;34m\u001b[0m\n\u001b[1;32m      4\u001b[0m \u001b[0;32mimport\u001b[0m \u001b[0mipywidgets\u001b[0m\u001b[0;34m\u001b[0m\u001b[0;34m\u001b[0m\u001b[0m\n\u001b[1;32m      5\u001b[0m \u001b[0;32mimport\u001b[0m \u001b[0mpandas\u001b[0m \u001b[0;32mas\u001b[0m \u001b[0mpd\u001b[0m\u001b[0;34m\u001b[0m\u001b[0;34m\u001b[0m\u001b[0m\n\u001b[0;32m----> 6\u001b[0;31m \u001b[0;32mimport\u001b[0m \u001b[0mgeopandas\u001b[0m \u001b[0;32mas\u001b[0m \u001b[0mgpd\u001b[0m\u001b[0;34m\u001b[0m\u001b[0;34m\u001b[0m\u001b[0m\n\u001b[0m\u001b[1;32m      7\u001b[0m \u001b[0;32mimport\u001b[0m \u001b[0mrasterio\u001b[0m\u001b[0;34m\u001b[0m\u001b[0;34m\u001b[0m\u001b[0m\n\u001b[1;32m      8\u001b[0m \u001b[0;32mimport\u001b[0m \u001b[0mshapely\u001b[0m\u001b[0;34m\u001b[0m\u001b[0;34m\u001b[0m\u001b[0m\n",
      "\u001b[0;31mModuleNotFoundError\u001b[0m: No module named 'geopandas'"
     ]
    }
   ],
   "source": [
    "import numpy \n",
    "import scipy \n",
    "import matplotlib.pyplot as plt\n",
    "import ipywidgets\n",
    "import pandas as pd\n",
    "import geopandas as gpd\n",
    "import rasterio\n",
    "import shapely\n",
    "import pygmt"
   ]
  },
  {
   "cell_type": "code",
   "execution_count": null,
   "metadata": {},
   "outputs": [],
   "source": []
  }
 ],
 "metadata": {
  "kernelspec": {
   "display_name": "Python 3",
   "language": "python",
   "name": "python3"
  },
  "language_info": {
   "codemirror_mode": {
    "name": "ipython",
    "version": 3
   },
   "file_extension": ".py",
   "mimetype": "text/x-python",
   "name": "python",
   "nbconvert_exporter": "python",
   "pygments_lexer": "ipython3",
   "version": "3.7.3"
  }
 },
 "nbformat": 4,
 "nbformat_minor": 2
}
